{
 "cells": [
  {
   "cell_type": "markdown",
   "metadata": {
    "collapsed": true
   },
   "source": [
    "# 4. Temporal difference learning"
   ]
  },
  {
   "cell_type": "markdown",
   "metadata": {},
   "source": [
    "Temporal Difference Learning is a middle ground between Dynamic Programming and Monte Carlo. We don't need an environment model like in dynamic programing but also don't wait until the end of the episode for an update. Bootstraping (using state estimates to backpropagate updates faster) is used. The idea is, if you have backpropagated good estimates from the goal to some state in the middle, why not use this for updates?"
   ]
  },
  {
   "cell_type": "markdown",
   "metadata": {},
   "source": [
    "### Example for TD(0) / Sarsa\n",
    "Look one step ahead to update your current state with the immediate reward + the discounted state value of the next state, for the update we uses the current State, Action, Reward, State', Action' --> Sarsa\n",
    "\n",
    "Input: the policy $\\pi$ to be evaluated <br>\n",
    "Initialize $Q(s,a)$ arbitrarily <br>\n",
    "Repeat (for each episode): <br>\n",
    "&emsp;    Initialize s <br>\n",
    "&emsp;    Repeat (for each step of episode): <br>\n",
    "&emsp;&emsp;        A <-- action given by $\\pi$ for s <br>\n",
    "&emsp;&emsp;        Taken action A; observe reward, R, and next state, S' <br>\n",
    "&emsp;&emsp;        $Q(s,a)$ <-- $Q(s,a) + \\alpha [R + \\gamma  Q(s',a') - Q(s,a)]$ <br>\n",
    "&emsp;&emsp;        S <-- S' <br>\n",
    "&emsp;    until S is terminal <br>\n",
    "\n",
    "For some reason Sarsa is unstable on the 'FrozenLake-v0' env so the Taxi-v2 was used for these tests"
   ]
  },
  {
   "cell_type": "code",
   "execution_count": 1,
   "metadata": {},
   "outputs": [
    {
     "name": "stdout",
     "output_type": "stream",
     "text": [
      "avg reward:  -749.0\n",
      "avg reward:  -568.75\n",
      "avg reward:  -237.3\n",
      "avg reward:  -76.55\n",
      "avg reward:  -27.36\n",
      "avg reward:  -9.62\n",
      "avg reward:  -0.31\n",
      "avg reward:  4.95\n",
      "avg reward:  6.1\n",
      "avg reward:  7.26\n",
      "avg reward:  6.1\n",
      "avg reward:  6.01\n",
      "avg reward:  6.34\n",
      "avg reward:  6.78\n",
      "avg reward:  6.96\n"
     ]
    }
   ],
   "source": [
    "import gym\n",
    "import numpy as np\n",
    "from collections import deque\n",
    "\n",
    "env_name = 'Taxi-v2'\n",
    "env = gym.make(env_name)\n",
    "state_space = env.observation_space.n\n",
    "action_space = env.action_space.n\n",
    "\n",
    "alpha = 0.85\n",
    "gamma = 0.999\n",
    "epsilon = 1.0 # amount of exploration\n",
    "epsilon_decay = 0.99 # exploration decay\n",
    "num_games = 1500 \n",
    "\n",
    "\n",
    "q = np.zeros([state_space, action_space])\n",
    "reward_list = deque(maxlen=100)\n",
    "\n",
    "def choose_action(q, state, epsilon):\n",
    "    ''' epsilon-greedy policy (explore with probability epsilon)  '''\n",
    "    if(np.random.uniform() < epsilon):\n",
    "        action = np.random.choice(action_space) # exploration\n",
    "    else:\n",
    "        action = np.argmax(q[state, :]) # exploitation\n",
    "    return action\n",
    "\n",
    "for game in range(num_games):\n",
    "    state = env.reset()\n",
    "    action = choose_action(q, state, epsilon)\n",
    "    epsilon *= epsilon_decay\n",
    "    done = False\n",
    "    episode_reward = 0\n",
    "    \n",
    "    while(not done):    \n",
    "        state_next, reward, done, _ = env.step(action)\n",
    "        episode_reward += reward\n",
    "        action_next = choose_action(q, state_next, epsilon)\n",
    "        q[state, action] = q[state, action] + alpha*( reward + gamma*(q[state_next, action_next]) - q[state, action] )\n",
    "        state = state_next\n",
    "        action = action_next\n",
    "        if(done):\n",
    "            reward_list.append(episode_reward)\n",
    "            if(game%100 == 0):\n",
    "                print('avg reward: ', np.mean(reward_list))\n",
    "\n"
   ]
  },
  {
   "cell_type": "markdown",
   "metadata": {},
   "source": [
    "### Example for TD(n)\n",
    "Instead of only looking one step ahead, calculate the update by looking n steps ahead <br>\n",
    "The only difference is that we add up the last n discounted rewards <br>\n",
    "$Q(s,a)$ <-- $Q(s,a) + \\alpha [R_{t+1} + \\gamma R_{t+2} + \\gamma^2 R_{t+2} + ... + \\gamma^n  Q(s',a')_{t+n} - Q(s,a)]$ <br>"
   ]
  },
  {
   "cell_type": "markdown",
   "metadata": {},
   "source": [
    "#### Implementation detail:\n",
    "When looking n steps ahead, there is a pitfall which took me quite a while to figure out. <br>\n",
    "In some gym environments e.g. FrozenLake, are no intermediate rewards and only a +1 reward when reaching the state in the bottom right. <br>\n",
    "When looking one step ahead this is not much of a problem. At some point the agent will reach a state next to the goal, walk randomly into the goal and update the state value next to it (figure 1.1 to 1.2)\n",
    "In one of the next episodes the agent might come next to the already updated state and backpropagates the updated state value again (image 1.2 to 1.3). This happens over and over until the state estimates are backpropagated over the entire state space.<br>\n",
    "<br>\n",
    "With an n-step lookahead the values could backpropagate even faster, since the agent does not only look at the intermediate reward but a few steps ahead.\n",
    "\n",
    "When implementing this algorithm you can't realy look ahead so what does the coder do? Save the states, actions, rewards in a list/deque and given those, update the $Q(s,a)$ which lies n steps in the past.\n",
    "\n",
    "Figure 2.1 shows a 2-step look ahead which packpropagates the +1 reward to the 4th row, 2nd column, so far so good but in which scenario does the 4th row, 3rd column get updated?\n",
    "In the frozen lake environment G is a terminal state so you would stop the game and never backpropagate the +1 reward from the goal to the 4th row, 3rd column. Given that this state has a value of zero, this error backpropagates like shown in figure 2.2.\n",
    "\n",
    "A workaround is to not terminate in the goal but rather loop in the terminal state for n steps!"
   ]
  },
  {
   "cell_type": "code",
   "execution_count": 2,
   "metadata": {},
   "outputs": [
    {
     "data": {
      "image/png": "[encoded data removed]",
      "text/plain": [
       "<IPython.core.display.Image object>"
      ]
     },
     "execution_count": 2,
     "metadata": {
      "image/png": {
       "height": 271,
       "width": 258
      }
     },
     "output_type": "execute_result"
    }
   ],
   "source": [
    "from IPython.display import Image\n",
    "Image(\"imgs/td_n_description.png\", retina=True)"
   ]
  },
  {
   "cell_type": "code",
   "execution_count": 3,
   "metadata": {},
   "outputs": [
    {
     "name": "stdout",
     "output_type": "stream",
     "text": [
      "avg reward:  -839.0\n",
      "avg reward:  -743.05\n",
      "avg reward:  -780.87\n",
      "avg reward:  -685.0\n",
      "avg reward:  -570.68\n",
      "avg reward:  -315.14\n",
      "avg reward:  -181.23\n",
      "avg reward:  -99.47\n",
      "avg reward:  -91.09\n",
      "avg reward:  -46.27\n",
      "avg reward:  -44.65\n",
      "avg reward:  -30.35\n",
      "avg reward:  -46.71\n",
      "avg reward:  -34.97\n",
      "avg reward:  -33.17\n"
     ]
    }
   ],
   "source": [
    "import gym\n",
    "import numpy as np\n",
    "from collections import deque\n",
    "import itertools\n",
    "\n",
    "#env_name = 'FrozenLake-v0'\n",
    "env_name = 'Taxi-v2'\n",
    "env = gym.make(env_name)\n",
    "state_space = env.observation_space.n\n",
    "action_space = env.action_space.n\n",
    "\n",
    "alpha = 0.85\n",
    "gamma = 0.999\n",
    "epsilon = 1.0\n",
    "epsilon_decay = 0.99\n",
    "max_games = 1500\n",
    "n = 7\n",
    "q = np.zeros([state_space, action_space])\n",
    "reward_list = deque(maxlen=100)\n",
    "\n",
    "def calc_g(reward_hist, q_hist, gamma):\n",
    "    ''' sum the last n discounted rewards + estimate for Q '''\n",
    "    discounted_rewards = [gamma**(index) * reward for index, reward in enumerate(reward_hist)]\n",
    "    discounted_q = (gamma**(len(q_hist))) * q_hist[-1] \n",
    "    return sum(discounted_rewards) + discounted_q\n",
    "\n",
    "def choose_action(q, epsilon):\n",
    "    ''' epsilon-greedy policy (explore with probability epsilon)  '''\n",
    "    if(np.random.uniform() < epsilon):\n",
    "        action = np.random.choice(action_space) # exploration\n",
    "    else:\n",
    "        action = np.argmax(q[state, :]) # exploitation\n",
    "    return action\n",
    "\n",
    "for game in range(max_games):\n",
    "    reward_hist = deque(maxlen=n)\n",
    "    q_hist = deque(maxlen=n)\n",
    "    state_hist = deque(maxlen=n)\n",
    "    action_hist = deque(maxlen=n)\n",
    "    \n",
    "    state = env.reset()\n",
    "    done=False\n",
    "    epsilon *= epsilon_decay\n",
    "    counter = 0\n",
    "    episode_reward = 0\n",
    "\n",
    "    while(not done):\n",
    "        state_hist.append(state)\n",
    "        action = choose_action(q, epsilon)\n",
    "        state, reward, done, _ = env.step(action)\n",
    "        episode_reward += reward\n",
    "        reward_hist.append(reward)\n",
    "        q_hist.append(q[state, action]) \n",
    "        action_hist.append(action)\n",
    "        \n",
    "        past_state = state_hist[0]\n",
    "        past_action = action_hist[0]\n",
    "        \n",
    "        q[past_state, past_action] = q[past_state, past_action] + alpha*( \n",
    "            calc_g(reward_hist, q_hist, gamma) - q[past_state, past_action] )\n",
    "        \n",
    "        # workaround for terminal state and n-step lookahead, read Implementation detail above the code\n",
    "        if(done):\n",
    "            reward_list.append(episode_reward)\n",
    "            if(game%100 == 0):\n",
    "                print('avg reward: ', np.mean(reward_list))\n",
    "            counter += 1\n",
    "            if counter > (n-1):\n",
    "                break\n",
    "        \n"
   ]
  },
  {
   "cell_type": "markdown",
   "metadata": {},
   "source": [
    "### Example for TD($\\lambda$) / Sarsa($\\lambda$)\n",
    "With a TD(n) the question arises, what is the right n (lookahead) for some environment. TD($\\lambda$) deals with this question building a weighted sum over multiple n's <br>\n",
    "$G_t^\\lambda = (1-\\lambda)\\sum_{n=1}^\\inf \\lambda^{n-1} G_t^{(n)}$\n",
    "<br>\n",
    "For $\\lambda=0$ the sum disappears because 0^0 = 1, 0^1 =0, 0^2=0, ... and the formula simplifies to:<br>\n",
    "$G_t^\\lambda = 1 *  G_t^{(0)}$ which is TD(0)<br>\n",
    "In case of $\\lambda=$ approaching 1 we get closer and closer to a Monte Carlo Approach"
   ]
  },
  {
   "cell_type": "code",
   "execution_count": 5,
   "metadata": {},
   "outputs": [
    {
     "name": "stdout",
     "output_type": "stream",
     "text": [
      "avg reward:  -839.0\n",
      "avg reward:  -569.48\n",
      "avg reward:  -330.95\n",
      "avg reward:  -185.02\n",
      "avg reward:  -89.68\n",
      "avg reward:  -7.77\n",
      "avg reward:  -15.3\n",
      "avg reward:  -10.47\n",
      "avg reward:  -2.43\n",
      "avg reward:  1.49\n",
      "avg reward:  4.25\n",
      "avg reward:  1.92\n",
      "avg reward:  4.08\n",
      "avg reward:  5.14\n",
      "avg reward:  6.05\n"
     ]
    }
   ],
   "source": [
    "import gym\n",
    "import numpy as np\n",
    "from collections import deque\n",
    "import itertools\n",
    "\n",
    "#env_name = 'FrozenLake-v0'\n",
    "env_name = 'Taxi-v2'\n",
    "env = gym.make(env_name)\n",
    "state_space = env.observation_space.n\n",
    "action_space = env.action_space.n\n",
    "\n",
    "alpha = 0.85\n",
    "gamma = 0.999\n",
    "epsilon = 1.0\n",
    "epsilon_decay = 0.99\n",
    "lambd = 0.5\n",
    "max_games = 1500\n",
    "n = 7\n",
    "q = np.zeros([state_space, action_space])\n",
    "reward_list = deque(maxlen=100)\n",
    "\n",
    "def calc_g_n(reward_hist, q_hist, gamma):\n",
    "    ''' sum the last n discounted rewards + estimate for Q '''\n",
    "    discounted_rewards = [gamma**(index) * reward for index, reward in enumerate(reward_hist)]\n",
    "    discounted_q = (gamma**(len(q_hist))) * q_hist[-1] \n",
    "    return sum(discounted_rewards) + discounted_q\n",
    "\n",
    "def calc_g_lambda(reward_hist, q_hist, gamma):\n",
    "    ''' iterate over all lookaheads and build the geometric sum '''\n",
    "    g_lambda = 0\n",
    "\n",
    "    for n in range(len(reward_hist)):\n",
    "        reward_hist1 = list(reward_hist)[:n+1]\n",
    "        q_hist1 = list(q_hist)[:n+1]\n",
    "        g_lambda += lambd**n * calc_g_n(reward_hist1, q_hist1, gamma)\n",
    "    return g_lambda*(1-lambd)\n",
    "        \n",
    "def choose_action(q, epsilon):\n",
    "    ''' epsilon-greedy policy (explore with probability epsilon)  '''\n",
    "    if(np.random.uniform() < epsilon):\n",
    "        action = np.random.choice(action_space) # exploration\n",
    "    else:\n",
    "        action = np.argmax(q[state, :]) # exploitation\n",
    "    return action\n",
    "\n",
    "for game in range(max_games):\n",
    "    reward_hist = deque(maxlen=n)\n",
    "    q_hist = deque(maxlen=n)\n",
    "    state_hist = deque(maxlen=n)\n",
    "    action_hist = deque(maxlen=n)\n",
    "    \n",
    "    state = env.reset()\n",
    "    epsilon *= epsilon_decay\n",
    "    counter = 0\n",
    "    episode_reward = 0\n",
    "    done=False\n",
    "    \n",
    "    while(not done):\n",
    "        state_hist.append(state)\n",
    "        action = choose_action(q, epsilon)\n",
    "        state, reward, done, _ = env.step(action)\n",
    "        episode_reward += reward\n",
    "        reward_hist.append(reward)\n",
    "        q_hist.append((q[state, action])) # adding action values of the current state\n",
    "        action_hist.append(action)\n",
    "        \n",
    "        past_state = state_hist[0]\n",
    "        past_action = action_hist[0]\n",
    "        \n",
    "        q[past_state, past_action] = q[past_state, past_action] + alpha*( \n",
    "            calc_g_lambda(reward_hist, q_hist, gamma) - q[past_state, past_action] )\n",
    "        \n",
    "        # workaround for terminal state and n-step lookahead, read Implementation detail above the code\n",
    "        if(done):\n",
    "            reward_list.append(episode_reward)\n",
    "            if(game%100 == 0):\n",
    "                print('avg reward: ', np.mean(reward_list))\n",
    "            counter += 1\n",
    "            if counter > (n-1):\n",
    "                break\n"
   ]
  },
  {
   "cell_type": "code",
   "execution_count": null,
   "metadata": {
    "collapsed": true
   },
   "outputs": [],
   "source": []
  }
 ],
 "metadata": {
  "kernelspec": {
   "display_name": "Python 3",
   "language": "python",
   "name": "python3"
  },
  "language_info": {
   "codemirror_mode": {
    "name": "ipython",
    "version": 3
   },
   "file_extension": ".py",
   "mimetype": "text/x-python",
   "name": "python",
   "nbconvert_exporter": "python",
   "pygments_lexer": "ipython3",
   "version": "3.6.3"
  }
 },
 "nbformat": 4,
 "nbformat_minor": 2
}
