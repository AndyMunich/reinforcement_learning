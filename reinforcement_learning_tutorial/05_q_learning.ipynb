{
 "cells": [
  {
   "cell_type": "markdown",
   "metadata": {
    "collapsed": true
   },
   "source": [
    "# 5. Q-Learning"
   ]
  },
  {
   "cell_type": "markdown",
   "metadata": {
    "collapsed": true
   },
   "source": [
    "In contrast to Sarsa which is an on-policy method (it learns to improve the policy while following it), Q-learning is off-policy (it improves Q independent of the policy being followed).\n",
    "The algorithm is nearly identical to Sarsa, with the following difference: <br>\n",
    "$Q(s,a)$ <-- $Q(s,a) + \\alpha [R + \\gamma  Q(s',a') - Q(s,a)]$ <br> \n",
    "$Q(s,a)$ <-- $Q(s,a) + \\alpha [R + \\gamma  amax(Q(s',:)) - Q(s,a)]$ <br> \n",
    "amax(Q(s',:)) chooses the best possible action value available at the next state.\n",
    "In Sutton & Barto, Sarsa performs better an the cliff-walking task but in the \"Taxi-v2\" and \"FrozenLake\" environments Q-Learning outperforms Sarsa."
   ]
  },
  {
   "cell_type": "markdown",
   "metadata": {
    "collapsed": true
   },
   "source": [
    "Input: the policy $\\pi$ <br>\n",
    "Initialize $Q(s,a)$ arbitrarily <br>\n",
    "Repeat (for each episode): <br>\n",
    "&emsp;    Initialize s <br>\n",
    "&emsp;    Repeat (for each step of episode): <br>\n",
    "&emsp;&emsp;        A <-- action given by $\\pi$ for s <br>\n",
    "&emsp;&emsp;        Taken action A; observe reward, R, and next state, S' <br>\n",
    "&emsp;&emsp;        $Q(s,a)$ <-- $Q(s,a) + \\alpha [R + \\gamma  amax(Q(s',:)) - Q(s,a)]$ <br>\n",
    "&emsp;&emsp;        S <-- S' <br>\n",
    "&emsp;    until S is terminal <br>"
   ]
  },
  {
   "cell_type": "code",
   "execution_count": 15,
   "metadata": {},
   "outputs": [
    {
     "name": "stdout",
     "output_type": "stream",
     "text": [
      "avg reward:  -803.0\n",
      "avg reward:  -494.46\n",
      "avg reward:  -77.6\n",
      "avg reward:  -4.91\n",
      "avg reward:  3.68\n",
      "avg reward:  6.45\n",
      "avg reward:  7.78\n",
      "avg reward:  8.03\n",
      "avg reward:  8.18\n",
      "avg reward:  8.29\n",
      "avg reward:  8.42\n",
      "avg reward:  7.61\n",
      "avg reward:  8.12\n",
      "avg reward:  7.79\n",
      "avg reward:  8.1\n"
     ]
    }
   ],
   "source": [
    "import gym\n",
    "import numpy as np\n",
    "from collections import deque\n",
    "np.random.seed(42)\n",
    "\n",
    "env_name = 'Taxi-v2'\n",
    "#env_name = 'FrozenLake-v0'\n",
    "\n",
    "env = gym.make(env_name)\n",
    "state_space = env.observation_space.n\n",
    "action_space = env.action_space.n\n",
    "\n",
    "alpha = 0.85\n",
    "gamma = 0.999\n",
    "epsilon = 1.0 # amount of exploration\n",
    "epsilon_decay = 0.99 # exploration decay\n",
    "num_games = 1500 \n",
    "\n",
    "q = np.zeros([state_space, action_space])\n",
    "reward_list = deque(maxlen=100)\n",
    "\n",
    "def choose_action(q, state, epsilon):\n",
    "    ''' epsilon-greedy policy (explore with probability epsilon)  '''\n",
    "    if(np.random.uniform() < epsilon):\n",
    "        action = np.random.choice(action_space) # exploration\n",
    "    else:\n",
    "        action = np.argmax(q[state, :]) # exploitation\n",
    "    return action\n",
    "\n",
    "for game in range(num_games):\n",
    "    state = env.reset()\n",
    "    action = choose_action(q, state, epsilon)\n",
    "    epsilon *= epsilon_decay\n",
    "    done = False\n",
    "    episode_reward = 0\n",
    "    \n",
    "    while(not done): \n",
    "        state_next, reward, done, _ = env.step(action)\n",
    "        episode_reward += reward\n",
    "        action_next = choose_action(q, state_next, epsilon)\n",
    "        q[state, action] = q[state, action] + alpha*( reward + gamma*(np.amax(q[state_next, :])) - q[state, action] )\n",
    "        state = state_next\n",
    "        action = action_next\n",
    "        if(done):\n",
    "            reward_list.append(episode_reward)\n",
    "            if(game%100 == 0):\n",
    "                print('avg reward: ', np.mean(reward_list))\n",
    "\n"
   ]
  }
 ],
 "metadata": {
  "kernelspec": {
   "display_name": "Python 3",
   "language": "python",
   "name": "python3"
  },
  "language_info": {
   "codemirror_mode": {
    "name": "ipython",
    "version": 3
   },
   "file_extension": ".py",
   "mimetype": "text/x-python",
   "name": "python",
   "nbconvert_exporter": "python",
   "pygments_lexer": "ipython3",
   "version": "3.6.3"
  }
 },
 "nbformat": 4,
 "nbformat_minor": 2
}
